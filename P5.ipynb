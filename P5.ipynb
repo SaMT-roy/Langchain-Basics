{
 "cells": [
  {
   "cell_type": "code",
   "execution_count": 2,
   "id": "e641355f",
   "metadata": {},
   "outputs": [],
   "source": [
    "import os\n",
    "import requests\n",
    "import zipfile\n",
    "from io import BytesIO\n",
    "import textwrap\n",
    "\n",
    "def download_and_extract_zip(url, target_folder):\n",
    "\n",
    "    # Download the file from the URL\n",
    "    response = requests.get(url)\n",
    "    if response.status_code != 200:\n",
    "        raise Exception(f\"Failed to download file: {url}\")\n",
    "\n",
    "    # Unzip the file in memory\n",
    "    with zipfile.ZipFile(BytesIO(response.content)) as zip_ref:\n",
    "        zip_ref.extractall(target_folder)\n",
    "\n",
    "    print(f\"Files extracted to {target_folder}\")"
   ]
  },
  {
   "cell_type": "code",
   "execution_count": 3,
   "id": "5a09cb34",
   "metadata": {},
   "outputs": [
    {
     "name": "stdout",
     "output_type": "stream",
     "text": [
      "Files extracted to singapore_text\n"
     ]
    }
   ],
   "source": [
    "# URL of the zip file\n",
    "url = \"https://www.dropbox.com/scl/fi/av3nw07o5mo29cjokyp41/singapore_text_files_languages.zip?rlkey=xqdy5f1modtbnrzzga9024jyw&dl=1\" # Ensure dl=1 for direct download\n",
    "\n",
    "# Folder to save extracted files\n",
    "folder = \"singapore_text\"\n",
    "\n",
    "# Call the function\n",
    "download_and_extract_zip(url, folder)"
   ]
  },
  {
   "cell_type": "code",
   "execution_count": 5,
   "id": "3baa139f",
   "metadata": {},
   "outputs": [],
   "source": [
    "\n",
    "from langchain.embeddings import GooglePalmEmbeddings\n",
    "from langchain.llms import GooglePalm\n",
    "from langchain.text_splitter import RecursiveCharacterTextSplitter\n",
    "from langchain.vectorstores.chroma import Chroma\n",
    "import langchain\n",
    "from langchain.document_loaders import DirectoryLoader\n",
    "from langchain.document_loaders import TextLoader\n",
    "\n",
    "os.environ['GOOGLE_API_KEY'] =  ''"
   ]
  },
  {
   "cell_type": "code",
   "execution_count": 8,
   "id": "8b3347d6",
   "metadata": {
    "scrolled": true
   },
   "outputs": [
    {
     "name": "stderr",
     "output_type": "stream",
     "text": [
      "\n",
      "  0%|                                                   | 0/646 [00:00<?, ?it/s]\u001b[A[nltk_data] Downloading package averaged_perceptron_tagger to\n",
      "[nltk_data]     /Users/saptarshimallikthakur/nltk_data...\n",
      "[nltk_data]   Unzipping taggers/averaged_perceptron_tagger.zip.\n",
      "\n",
      "  0%|                                         | 1/646 [00:24<4:26:11, 24.76s/it]\u001b[A\n",
      "  0%|▏                                        | 2/646 [00:24<1:50:31, 10.30s/it]\u001b[A\n",
      "  2%|▋                                         | 10/646 [00:25<14:15,  1.34s/it]\u001b[A\n",
      "  2%|▉                                         | 15/646 [00:25<08:02,  1.31it/s]\u001b[A\n",
      "  4%|█▌                                        | 24/646 [00:25<03:47,  2.73it/s]\u001b[A\n",
      "  5%|██▎                                       | 35/646 [00:25<01:59,  5.12it/s]\u001b[A\n",
      "  7%|██▊                                       | 44/646 [00:25<01:23,  7.18it/s]\u001b[A\n",
      "  8%|███▌                                      | 54/646 [00:25<00:54, 10.80it/s]\u001b[A\n",
      " 10%|████                                      | 63/646 [00:25<00:39, 14.92it/s]\u001b[A\n",
      " 11%|████▊                                     | 74/646 [00:26<00:26, 21.54it/s]\u001b[A\n",
      " 13%|█████▌                                    | 85/646 [00:26<00:19, 29.31it/s]\u001b[A\n",
      " 15%|██████                                    | 94/646 [00:26<00:15, 36.10it/s]\u001b[A\n",
      " 16%|██████▌                                  | 103/646 [00:26<00:14, 37.39it/s]\u001b[A\n",
      " 17%|███████                                  | 111/646 [00:26<00:12, 41.51it/s]\u001b[A\n",
      " 18%|███████▌                                 | 119/646 [00:26<00:11, 46.08it/s]\u001b[A\n",
      " 20%|███████▉                                 | 126/646 [00:26<00:10, 47.55it/s]\u001b[A\n",
      " 21%|████████▌                                | 135/646 [00:26<00:09, 55.64it/s]\u001b[A\n",
      " 22%|█████████▏                               | 145/646 [00:27<00:07, 64.43it/s]\u001b[A\n",
      " 24%|█████████▋                               | 153/646 [00:27<00:08, 58.96it/s]\u001b[A\n",
      " 25%|██████████▏                              | 161/646 [00:27<00:08, 60.50it/s]\u001b[A\n",
      " 26%|██████████▊                              | 170/646 [00:27<00:07, 64.73it/s]\u001b[A\n",
      " 28%|███████████▎                             | 178/646 [00:27<00:07, 58.61it/s]\u001b[A\n",
      " 29%|███████████▊                             | 186/646 [00:27<00:07, 62.94it/s]\u001b[A\n",
      " 30%|████████████▏                            | 193/646 [00:27<00:07, 62.85it/s]\u001b[A\n",
      " 31%|████████████▊                            | 202/646 [00:27<00:06, 69.60it/s]\u001b[A\n",
      " 33%|█████████████▎                           | 210/646 [00:28<00:06, 62.86it/s]\u001b[A\n",
      " 34%|█████████████▉                           | 219/646 [00:28<00:06, 68.85it/s]\u001b[A\n",
      " 35%|██████████████▌                          | 229/646 [00:28<00:05, 75.90it/s]\u001b[A\n",
      " 37%|███████████████                          | 237/646 [00:28<00:06, 64.29it/s]\u001b[A\n",
      " 38%|███████████████▍                         | 244/646 [00:28<00:07, 54.99it/s]\u001b[A\n",
      " 39%|███████████████▉                         | 251/646 [00:28<00:07, 55.81it/s]\u001b[A\n",
      " 40%|████████████████▎                        | 257/646 [00:28<00:08, 48.18it/s]\u001b[A\n",
      " 41%|████████████████▋                        | 263/646 [00:29<00:07, 48.89it/s]\u001b[A\n",
      " 42%|█████████████████                        | 269/646 [00:29<00:07, 50.79it/s]\u001b[A\n",
      " 43%|█████████████████▍                       | 275/646 [00:29<00:07, 47.50it/s]\u001b[A\n",
      " 43%|█████████████████▊                       | 281/646 [00:29<00:07, 50.37it/s]\u001b[A\n",
      " 45%|██████████████████▌                      | 292/646 [00:29<00:05, 63.76it/s]\u001b[A\n",
      " 46%|██████████████████▉                      | 299/646 [00:29<00:05, 63.54it/s]\u001b[A\n",
      " 48%|███████████████████▍                     | 307/646 [00:29<00:05, 67.06it/s]\u001b[A\n",
      " 49%|███████████████████▉                     | 315/646 [00:29<00:04, 70.11it/s]\u001b[A\n",
      " 50%|████████████████████▌                    | 323/646 [00:30<00:05, 57.08it/s]\u001b[A\n",
      " 51%|████████████████████▉                    | 330/646 [00:30<00:05, 54.93it/s]\u001b[A\n",
      " 53%|█████████████████████▋                   | 341/646 [00:30<00:04, 66.94it/s]\u001b[A\n",
      " 54%|██████████████████████▏                  | 349/646 [00:30<00:05, 51.12it/s]\u001b[A\n",
      " 56%|██████████████████████▊                  | 360/646 [00:30<00:04, 62.80it/s]\u001b[A\n",
      " 57%|███████████████████████▎                 | 368/646 [00:30<00:04, 63.03it/s]\u001b[A\n",
      " 59%|███████████████████████▉                 | 378/646 [00:30<00:03, 71.31it/s]\u001b[A\n",
      " 60%|████████████████████████▍                | 386/646 [00:31<00:03, 70.81it/s]\u001b[A\n",
      " 61%|█████████████████████████                | 395/646 [00:31<00:03, 75.24it/s]\u001b[A\n",
      " 62%|█████████████████████████▌               | 403/646 [00:31<00:03, 74.57it/s]\u001b[A\n",
      " 64%|██████████████████████████               | 411/646 [00:31<00:03, 61.46it/s]\u001b[A\n",
      " 65%|██████████████████████████▌              | 418/646 [00:31<00:03, 63.38it/s]\u001b[A\n",
      " 66%|███████████████████████████▏             | 428/646 [00:31<00:03, 72.38it/s]\u001b[A\n",
      " 67%|███████████████████████████▋             | 436/646 [00:31<00:03, 68.32it/s]\u001b[A\n",
      " 69%|████████████████████████████▏            | 444/646 [00:32<00:04, 49.49it/s]\u001b[A\n",
      " 70%|████████████████████████████▌            | 451/646 [00:32<00:03, 52.64it/s]\u001b[A\n",
      " 71%|█████████████████████████████            | 458/646 [00:32<00:03, 55.06it/s]\u001b[A\n",
      " 72%|█████████████████████████████▌           | 465/646 [00:32<00:03, 57.07it/s]\u001b[A\n",
      " 73%|█████████████████████████████▉           | 472/646 [00:32<00:02, 59.06it/s]\u001b[A\n",
      " 74%|██████████████████████████████▌          | 481/646 [00:32<00:02, 65.57it/s]\u001b[A\n",
      " 76%|███████████████████████████████          | 489/646 [00:32<00:02, 67.05it/s]\u001b[A\n",
      " 77%|███████████████████████████████▍         | 496/646 [00:32<00:02, 60.17it/s]\u001b[A\n",
      " 78%|███████████████████████████████▉         | 504/646 [00:32<00:02, 59.21it/s]\u001b[A\n",
      " 79%|████████████████████████████████▌        | 513/646 [00:33<00:02, 64.56it/s]\u001b[A\n",
      " 81%|█████████████████████████████████▏       | 522/646 [00:33<00:01, 69.46it/s]\u001b[A\n",
      " 82%|█████████████████████████████████▋       | 530/646 [00:33<00:02, 45.45it/s]\u001b[A\n",
      " 83%|██████████████████████████████████       | 537/646 [00:33<00:02, 49.67it/s]\u001b[A\n",
      " 84%|██████████████████████████████████▌      | 544/646 [00:33<00:01, 52.36it/s]\u001b[A\n",
      " 86%|███████████████████████████████████      | 553/646 [00:34<00:02, 43.29it/s]\u001b[A\n",
      " 87%|███████████████████████████████████▌     | 561/646 [00:34<00:01, 49.03it/s]\u001b[A\n",
      " 88%|████████████████████████████████████▏    | 571/646 [00:34<00:01, 58.91it/s]\u001b[A\n",
      " 89%|████████████████████████████████████▋    | 578/646 [00:34<00:01, 61.06it/s]\u001b[A\n",
      " 91%|█████████████████████████████████████▏   | 585/646 [00:34<00:00, 61.95it/s]\u001b[A\n",
      " 92%|█████████████████████████████████████▋   | 593/646 [00:34<00:00, 65.90it/s]\u001b[A\n",
      " 93%|██████████████████████████████████████▏  | 601/646 [00:34<00:00, 52.68it/s]\u001b[A\n",
      " 94%|██████████████████████████████████████▌  | 608/646 [00:34<00:00, 56.31it/s]\u001b[A\n",
      " 96%|███████████████████████████████████████▎ | 619/646 [00:35<00:00, 53.91it/s]\u001b[A\n",
      " 97%|███████████████████████████████████████▋ | 625/646 [00:35<00:00, 41.13it/s]\u001b[A\n",
      " 98%|████████████████████████████████████████ | 632/646 [00:35<00:00, 45.71it/s]\u001b[A\n",
      "100%|█████████████████████████████████████████| 646/646 [00:35<00:00, 18.12it/s]\u001b[A\n"
     ]
    }
   ],
   "source": [
    "loader = DirectoryLoader('singapore_text/Textfiles3/English/', glob=\"*.txt\", show_progress=True)\n",
    "docs = loader.load()"
   ]
  },
  {
   "cell_type": "code",
   "execution_count": 29,
   "id": "75301474",
   "metadata": {},
   "outputs": [],
   "source": [
    "raw_text = ''\n",
    "for i, doc in enumerate(docs):\n",
    "    text = doc.page_content\n",
    "    if text:\n",
    "        raw_text += text\n",
    "        \n",
    "text_splitter = RecursiveCharacterTextSplitter(\n",
    "    chunk_size = 500,\n",
    "    chunk_overlap  = 100,\n",
    "    length_function = len,\n",
    "    is_separator_regex = False,\n",
    ")\n",
    "\n",
    "texts = text_splitter.split_text(raw_text)"
   ]
  },
  {
   "cell_type": "code",
   "execution_count": null,
   "id": "04b09d0d",
   "metadata": {},
   "outputs": [],
   "source": []
  },
  {
   "cell_type": "code",
   "execution_count": 25,
   "id": "9c13ebaa",
   "metadata": {
    "scrolled": true
   },
   "outputs": [
    {
     "data": {
      "application/vnd.jupyter.widget-view+json": {
       "model_id": "7e21da6da6194fa59d54a7b01561c252",
       "version_major": 2,
       "version_minor": 0
      },
      "text/plain": [
       "modules.json:   0%|          | 0.00/349 [00:00<?, ?B/s]"
      ]
     },
     "metadata": {},
     "output_type": "display_data"
    },
    {
     "data": {
      "application/vnd.jupyter.widget-view+json": {
       "model_id": "775656341577415a880d91085c530355",
       "version_major": 2,
       "version_minor": 0
      },
      "text/plain": [
       "config_sentence_transformers.json:   0%|          | 0.00/124 [00:00<?, ?B/s]"
      ]
     },
     "metadata": {},
     "output_type": "display_data"
    },
    {
     "data": {
      "application/vnd.jupyter.widget-view+json": {
       "model_id": "a27267d080bc49b59137312b7406383b",
       "version_major": 2,
       "version_minor": 0
      },
      "text/plain": [
       "README.md:   0%|          | 0.00/93.0k [00:00<?, ?B/s]"
      ]
     },
     "metadata": {},
     "output_type": "display_data"
    },
    {
     "data": {
      "application/vnd.jupyter.widget-view+json": {
       "model_id": "44d3b916b26f4591be62e6b4f558b38b",
       "version_major": 2,
       "version_minor": 0
      },
      "text/plain": [
       "sentence_bert_config.json:   0%|          | 0.00/52.0 [00:00<?, ?B/s]"
      ]
     },
     "metadata": {},
     "output_type": "display_data"
    },
    {
     "data": {
      "application/vnd.jupyter.widget-view+json": {
       "model_id": "2ee061d6514142e299b5ce81874946d1",
       "version_major": 2,
       "version_minor": 0
      },
      "text/plain": [
       "config.json:   0%|          | 0.00/743 [00:00<?, ?B/s]"
      ]
     },
     "metadata": {},
     "output_type": "display_data"
    },
    {
     "data": {
      "application/vnd.jupyter.widget-view+json": {
       "model_id": "7910591ca5bc4ebbb0e97f96b8131af4",
       "version_major": 2,
       "version_minor": 0
      },
      "text/plain": [
       "model.safetensors:   0%|          | 0.00/133M [00:00<?, ?B/s]"
      ]
     },
     "metadata": {},
     "output_type": "display_data"
    },
    {
     "data": {
      "application/vnd.jupyter.widget-view+json": {
       "model_id": "c9d9ac1e184c4b54bf77acc562e8345c",
       "version_major": 2,
       "version_minor": 0
      },
      "text/plain": [
       "tokenizer_config.json:   0%|          | 0.00/366 [00:00<?, ?B/s]"
      ]
     },
     "metadata": {},
     "output_type": "display_data"
    },
    {
     "data": {
      "application/vnd.jupyter.widget-view+json": {
       "model_id": "e066527644d04410b7443692dadccdb8",
       "version_major": 2,
       "version_minor": 0
      },
      "text/plain": [
       "vocab.txt:   0%|          | 0.00/232k [00:00<?, ?B/s]"
      ]
     },
     "metadata": {},
     "output_type": "display_data"
    },
    {
     "data": {
      "application/vnd.jupyter.widget-view+json": {
       "model_id": "7f6f6dae7a374f94a4b8cffb2a1b86cf",
       "version_major": 2,
       "version_minor": 0
      },
      "text/plain": [
       "tokenizer.json:   0%|          | 0.00/711k [00:00<?, ?B/s]"
      ]
     },
     "metadata": {},
     "output_type": "display_data"
    },
    {
     "data": {
      "application/vnd.jupyter.widget-view+json": {
       "model_id": "8a5a5ba1c34b42cab3ae1a6c71f3313e",
       "version_major": 2,
       "version_minor": 0
      },
      "text/plain": [
       "special_tokens_map.json:   0%|          | 0.00/125 [00:00<?, ?B/s]"
      ]
     },
     "metadata": {},
     "output_type": "display_data"
    },
    {
     "data": {
      "application/vnd.jupyter.widget-view+json": {
       "model_id": "1028cd94858a4433ac09da56976979b5",
       "version_major": 2,
       "version_minor": 0
      },
      "text/plain": [
       "1_Pooling/config.json:   0%|          | 0.00/190 [00:00<?, ?B/s]"
      ]
     },
     "metadata": {},
     "output_type": "display_data"
    }
   ],
   "source": [
    "from langchain.embeddings import HuggingFaceBgeEmbeddings\n",
    "\n",
    "model_name = \"BAAI/bge-small-en-v1.5\"\n",
    "encode_kwargs = {'normalize_embeddings': True} # set True to compute cosine similarity\n",
    "\n",
    "embedding_function = HuggingFaceBgeEmbeddings(\n",
    "    model_name=model_name,\n",
    "    encode_kwargs=encode_kwargs,\n",
    "\n",
    ")"
   ]
  },
  {
   "cell_type": "code",
   "execution_count": 32,
   "id": "be0922a6",
   "metadata": {},
   "outputs": [],
   "source": [
    "db = Chroma.from_texts(texts,\n",
    "                       embedding_function)\n",
    "                    #   persist_directory=\"chroma_db_rag_fusion\")\n",
    "\n",
    "\n",
    "\n",
    "### load from disk\n",
    "#db = Chroma(persist_directory=\"chroma_db_rag_fusion\", embedding_function=embedding_function)"
   ]
  },
  {
   "cell_type": "code",
   "execution_count": 34,
   "id": "7fbb24cf",
   "metadata": {},
   "outputs": [
    {
     "data": {
      "text/plain": [
       "[Document(page_content='Universal Studios Singapore'),\n",
       " Document(page_content='Native. 52A Amoy Street, Singapore 069878. +65 8869 6520.\\n\\nMon\\n\\nSat 6pm\\n\\n12am.\\n\\nFor night owls with supper cravingsLink: https://www.visitsingapore.com/see\\n\\ndo\\n\\nsingapore/recreation\\n\\nleisure/fun\\n\\nthings\\n\\nto\\n\\ndo/universal\\n\\nstudios\\n\\nsingapore/\\n\\nTitle: Universal Studios Singapore\\n\\nThe shimmering wonders of the silver screen comes to vivid life at Universal Studios Singapore, the first-ever Hollywood movie theme park in Southeast Asia.'),\n",
       " Document(page_content='Universal Studios Singapore is a popular theme park that offers thrilling rides and entertainment for all ages. You can buy Universal Studios Singapore tickets and enjoy an unbeatable discount of 40% from MySingaporePass. The pass provides a hassle-free booking process, allowing you to skip the long queues and gain easy access to the park. Enjoy exhilarating roller coasters, live shows, and immersive themed zones inspired by your favorite movies. The discounted entry with My Singapore Pass'),\n",
       " Document(page_content='The magic of Hollywood comes to life at Universal Studios Singapore (USS), a theme park filled with adrenaline-pumping rides, immersive live entertainment and a wide variety of attractions based on some of your favourite movie characters. Revisit childhood with your loved ones as you explore six distinct zones, from science-fiction worlds to the Jurassic era and ancient Egypt. We recommend visiting Far Far Away, modelled after the iconic world from the Shrek movie series. Check out shows like'),\n",
       " Document(page_content='Here are some of the top attractions that can be booked with the My Singapore Pass:\\n\\nUniversal Studios Singapore @ 40% Off')]"
      ]
     },
     "execution_count": 34,
     "metadata": {},
     "output_type": "execute_result"
    }
   ],
   "source": [
    "query = \"Tell me about Universal Studios Singapore?\"\n",
    "\n",
    "db.similarity_search(query, k=5)"
   ]
  },
  {
   "cell_type": "code",
   "execution_count": null,
   "id": "9324e450",
   "metadata": {},
   "outputs": [],
   "source": []
  },
  {
   "cell_type": "code",
   "execution_count": 36,
   "id": "fe1e511c",
   "metadata": {},
   "outputs": [],
   "source": [
    "from operator import itemgetter\n",
    "\n",
    "from langchain.chat_models import ChatGooglePalm\n",
    "\n",
    "from langchain.prompts import ChatPromptTemplate\n",
    "from langchain.schema.output_parser import StrOutputParser\n",
    "from langchain.schema.runnable import RunnableLambda, RunnablePassthrough"
   ]
  },
  {
   "cell_type": "code",
   "execution_count": 37,
   "id": "6ec041d0",
   "metadata": {},
   "outputs": [],
   "source": [
    "template = \"\"\"Answer the question based only on the following context:\n",
    "{context}\n",
    "\n",
    "Question: {question}\n",
    "\"\"\"\n",
    "prompt = ChatPromptTemplate.from_template(template)\n",
    "\n",
    "model = ChatGooglePalm()\n",
    "\n",
    "\n",
    "chain = (\n",
    "    {\"context\": retriever, \"question\": RunnablePassthrough()}\n",
    "    | prompt\n",
    "    | model\n",
    "    | StrOutputParser()\n",
    ")"
   ]
  },
  {
   "cell_type": "code",
   "execution_count": 39,
   "id": "7ef365fc",
   "metadata": {},
   "outputs": [
    {
     "name": "stdout",
     "output_type": "stream",
     "text": [
      "Universal Studios Singapore is a theme park located at Resorts World Sentosa on Sentosa Island, Singapore. It is the first Universal Studios theme park in Southeast Asia and the second Universal Studios theme park in Asia after Universal Studios Japan. The park opened on 18 September 2010.\n",
      "\n",
      "The park is divided into seven themed zones: Hollywood, New York, Sci-Fi City, Ancient Egypt, The Lost World, Far Far Away, and Madagascar. Each zone is home to a variety of rides, shows, and attractions based on popular movies and television shows.\n",
      "\n",
      "Some of the most popular rides at Universal Studios Singapore include:\n",
      "\n",
      "* The Mummy Ride: A roller coaster that takes guests on a journey through the tomb of Imhotep.\n",
      "* Transformers The Ride: 3D Battle: A 3D motion simulator ride that puts guests in the middle of a battle between the Autobots and the Decepticons.\n",
      "* Jurassic Park Rapids Adventure: A water ride that takes guests on a journey through the Jurassic Park lagoon.\n",
      "* Shrek 4-D Adventure: A 4D motion simulator ride that takes guests on a journey through the world of Shrek.\n",
      "* Madagascar: A Crate Adventure: A family-friendly boat ride that takes guests through the world of Madagascar.\n",
      "\n",
      "In addition to rides, Universal Studios Singapore also features a variety of shows and attractions. Some of the most popular shows include:\n",
      "\n",
      "* The Universal's Animal Actors Show: A live show featuring trained animals performing stunts and tricks.\n",
      "* The Blue Man Group: A live performance by the Blue Man Group, a group of three bald men who perform music, comedy, and technology-based art.\n",
      "* Sesame Street Live!: A live show featuring characters from Sesame Street.\n",
      "\n",
      "Universal Studios Singapore is a popular tourist destination and is one of the most visited theme parks in the world. The park is open daily from 10am to 9pm. Tickets can be purchased online or at the park entrance.\n"
     ]
    }
   ],
   "source": [
    "text_reply = chain.invoke(\"Tell me about Universal Studio Singapore\")\n",
    "\n",
    "print(text_reply)"
   ]
  },
  {
   "cell_type": "code",
   "execution_count": null,
   "id": "5d888de5",
   "metadata": {},
   "outputs": [],
   "source": []
  }
 ],
 "metadata": {
  "kernelspec": {
   "display_name": "Python 3 (ipykernel)",
   "language": "python",
   "name": "python3"
  },
  "language_info": {
   "codemirror_mode": {
    "name": "ipython",
    "version": 3
   },
   "file_extension": ".py",
   "mimetype": "text/x-python",
   "name": "python",
   "nbconvert_exporter": "python",
   "pygments_lexer": "ipython3",
   "version": "3.10.12"
  }
 },
 "nbformat": 4,
 "nbformat_minor": 5
}
